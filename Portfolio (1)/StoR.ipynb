{
 "cells": [
  {
   "cell_type": "code",
   "execution_count": 69,
   "id": "egyptian-asthma",
   "metadata": {},
   "outputs": [
    {
     "data": {
      "text/plain": [
       "0     2007\n",
       "1     2008\n",
       "2     2008\n",
       "3     2008\n",
       "4     2008\n",
       "5     2008\n",
       "6     2008\n",
       "7     2008\n",
       "8     2008\n",
       "9     2008\n",
       "10    2008\n",
       "11    2008\n",
       "12    2008\n",
       "13    2009\n",
       "14    2009\n",
       "15    2009\n",
       "16    2009\n",
       "17    2009\n",
       "18    2009\n",
       "19    2009\n",
       "20    2009\n",
       "21    2009\n",
       "22    2009\n",
       "23    2009\n",
       "24    2009\n",
       "25    2010\n",
       "26    2010\n",
       "27    2010\n",
       "28    2010\n",
       "29    2010\n",
       "30    2010\n",
       "31    2010\n",
       "32    2010\n",
       "33    2010\n",
       "34    2010\n",
       "35    2010\n",
       "36    2010\n",
       "37    2011\n",
       "38    2011\n",
       "39    2011\n",
       "40    2011\n",
       "41    2011\n",
       "42    2011\n",
       "43    2011\n",
       "44    2011\n",
       "45    2011\n",
       "46    2011\n",
       "47    2011\n",
       "48    2011\n",
       "49    2012\n",
       "50    2012\n",
       "51    2012\n",
       "52    2012\n",
       "53    2012\n",
       "54    2012\n",
       "55    2012\n",
       "56    2012\n",
       "57    2012\n",
       "58    2012\n",
       "59    2012\n",
       "Name: Month, dtype: int64"
      ]
     },
     "execution_count": 69,
     "metadata": {},
     "output_type": "execute_result"
    }
   ],
   "source": [
    "import pandas as pd\n",
    "import numpy as np\n",
    "\n",
    "#path=\"\"\"C:\\Users\\Admin\\Documents\\Portfolio\"\"\"\n",
    "\n",
    "df=pd.read_csv(\"C:\\\\Users\\\\Admin\\\\Documents\\\\Portfolio\\\\test.csv\")\n",
    "\n",
    "df = df.drop(columns=df.columns[4])\n",
    "\n",
    "def month_to_FY(month):\n",
    "    A=['Apr','May','Jun','Jul','Aug','Sep','Oct','Nov','Dec']\n",
    "    B=['Jan','Feb','Mar']\n",
    "\n",
    "    M=month[0:3]\n",
    "    Y=month[-2:]\n",
    "\n",
    "    if M in A:\n",
    "        return(2000+int(Y))\n",
    "    else:\n",
    "        return(2000+int(Y)-1)\n",
    "\n",
    "ret=(df['Close-Open']+df['Dividend'])/df['Open']\n",
    "df=df.assign(**{'Return':ret})\n",
    "#X=df.groupby(df.Month.str[-2:])['Return'].apply(lambda x: x.mean())\n",
    "X=df['Month'].apply(month_to_FY)\n",
    "#Y= df.groupby(df.Month.index/12)['Return'].mean()\n",
    "\n",
    "X"
   ]
  },
  {
   "cell_type": "code",
   "execution_count": 68,
   "id": "intensive-explorer",
   "metadata": {},
   "outputs": [
    {
     "name": "stdout",
     "output_type": "stream",
     "text": [
      "\n",
      "Enter month and year::Feb-20\n",
      "2019\n"
     ]
    }
   ],
   "source": [
    "A=['Apr','May','Jun','Jul','Aug','Sep','Oct','Nov','Dec']\n",
    "B=['Jan','Feb','Mar']\n",
    "\n",
    "X=input('\\nEnter month and year::')\n",
    "\n",
    "M=X[0:3]\n",
    "Y=X[-2:]\n",
    "\n",
    "if M in A:\n",
    "    print(2000+int(Y))\n",
    "else:\n",
    "    print(2000+int(Y)-1)"
   ]
  },
  {
   "cell_type": "code",
   "execution_count": null,
   "id": "critical-monaco",
   "metadata": {},
   "outputs": [],
   "source": []
  }
 ],
 "metadata": {
  "kernelspec": {
   "display_name": "Python 3",
   "language": "python",
   "name": "python3"
  },
  "language_info": {
   "codemirror_mode": {
    "name": "ipython",
    "version": 3
   },
   "file_extension": ".py",
   "mimetype": "text/x-python",
   "name": "python",
   "nbconvert_exporter": "python",
   "pygments_lexer": "ipython3",
   "version": "3.7.6"
  }
 },
 "nbformat": 4,
 "nbformat_minor": 5
}
